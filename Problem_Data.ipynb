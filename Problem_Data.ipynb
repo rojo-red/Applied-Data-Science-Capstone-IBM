{
 "cells": [
  {
   "cell_type": "markdown",
   "metadata": {},
   "source": [
    "# Problem Description "
   ]
  },
  {
   "cell_type": "markdown",
   "metadata": {},
   "source": [
    "In an effort to understand and reduce traffic collisions, we are going to related different types of collisions to multiple independent factors such as: weather, road conditions, lights conditions, etc. By understanding such a relationship, we will be able to better advise the public and therefore reduce the number and severity of traffic accidents."
   ]
  },
  {
   "cell_type": "markdown",
   "metadata": {},
   "source": [
    "# Data"
   ]
  },
  {
   "cell_type": "markdown",
   "metadata": {},
   "source": [
    "The dataset being used was provided by this course. The traffic records are from New York City Metropolitan Area. The records date back to 2004. \n",
    "The dependent variable is called “SEVERITYCODE”, which represents the severity of each collision recorded. There are 5 different types of accidents:  0-unknown, 1-property damage, 2-injury, 2b-serious injury, and 3-fatality. \n",
    "The dataset in its raw form is not suitable to be the analysis. Some of the modifications required are: handling missing data, transforming data types, and normalizing/transforming data if required. \n"
   ]
  },
  {
   "cell_type": "markdown",
   "metadata": {},
   "source": [
    "# Methodology "
   ]
  },
  {
   "cell_type": "markdown",
   "metadata": {},
   "source": [
    "Multiple machine learning methods, are going to be testes, those are:\n",
    "1-Decision Tree\n",
    "2-K-Nearest Neighbor\n",
    "3-Logistic Regression \n",
    "\n"
   ]
  }
 ],
 "metadata": {
  "kernelspec": {
   "display_name": "Python 3",
   "language": "python",
   "name": "python3"
  },
  "language_info": {
   "codemirror_mode": {
    "name": "ipython",
    "version": 3
   },
   "file_extension": ".py",
   "mimetype": "text/x-python",
   "name": "python",
   "nbconvert_exporter": "python",
   "pygments_lexer": "ipython3",
   "version": "3.7.3"
  }
 },
 "nbformat": 4,
 "nbformat_minor": 2
}
