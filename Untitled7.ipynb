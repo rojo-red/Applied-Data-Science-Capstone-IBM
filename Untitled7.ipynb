{
 "cells": [
  {
   "cell_type": "markdown",
   "metadata": {},
   "source": [
    "## Introduction/Business Objective "
   ]
  },
  {
   "cell_type": "markdown",
   "metadata": {},
   "source": [
    "Washington DC, the capital city of the United States, is one of the most tourist cities in the world. Besides, its political distinction, it is also known as a culinary paradise, it is home to some of the best restaurants in the world. However, like any major city finding the right restaurant to eat is not straightforward.  \n",
    "Therefore, the main goal of this study is to create a comprehensive list of restaurant recommendations by ward. The ideal outcome will be the dominant type of cuisine and median price range by ward.\n",
    "\n"
   ]
  },
  {
   "cell_type": "markdown",
   "metadata": {},
   "source": [
    "## Data Description "
   ]
  },
  {
   "cell_type": "markdown",
   "metadata": {},
   "source": [
    "The data for this study will be extracted from two sources. First, Foursquare contains all data related to restaurants in the US. For example, it contains: restaurant name, location, cuisine, etc. Second,  I will use Wikipedia to determine the location and delimitation of the different wards in Washington Dc."
   ]
  }
 ],
 "metadata": {
  "kernelspec": {
   "display_name": "Python 3",
   "language": "python",
   "name": "python3"
  },
  "language_info": {
   "codemirror_mode": {
    "name": "ipython",
    "version": 3
   },
   "file_extension": ".py",
   "mimetype": "text/x-python",
   "name": "python",
   "nbconvert_exporter": "python",
   "pygments_lexer": "ipython3",
   "version": "3.7.3"
  }
 },
 "nbformat": 4,
 "nbformat_minor": 2
}
